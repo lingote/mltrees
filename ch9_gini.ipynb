{
 "cells": [
  {
   "cell_type": "code",
   "execution_count": 36,
   "metadata": {},
   "outputs": [
    {
     "ename": "ImportError",
     "evalue": "cannot import name cross_validate",
     "output_type": "error",
     "traceback": [
      "\u001b[0;31m---------------------------------------------------------------------------\u001b[0m",
      "\u001b[0;31mImportError\u001b[0m                               Traceback (most recent call last)",
      "\u001b[0;32m<ipython-input-36-2b0fa35b0205>\u001b[0m in \u001b[0;36m<module>\u001b[0;34m()\u001b[0m\n\u001b[1;32m      5\u001b[0m \u001b[0;32mfrom\u001b[0m \u001b[0msklearn\u001b[0m\u001b[0;34m.\u001b[0m\u001b[0mmodel_selection\u001b[0m \u001b[0;32mimport\u001b[0m \u001b[0mtrain_test_split\u001b[0m\u001b[0;34m\u001b[0m\u001b[0m\n\u001b[1;32m      6\u001b[0m \u001b[0;32mfrom\u001b[0m \u001b[0msklearn\u001b[0m\u001b[0;34m.\u001b[0m\u001b[0mtree\u001b[0m \u001b[0;32mimport\u001b[0m \u001b[0mDecisionTreeClassifier\u001b[0m\u001b[0;34m\u001b[0m\u001b[0m\n\u001b[0;32m----> 7\u001b[0;31m \u001b[0;32mfrom\u001b[0m \u001b[0msklearn\u001b[0m\u001b[0;34m.\u001b[0m\u001b[0mmodel_selection\u001b[0m \u001b[0;32mimport\u001b[0m \u001b[0mcross_val_score\u001b[0m\u001b[0;34m,\u001b[0m \u001b[0mcross_validate\u001b[0m\u001b[0;34m\u001b[0m\u001b[0m\n\u001b[0m\u001b[1;32m      8\u001b[0m \u001b[0;32mimport\u001b[0m \u001b[0mmatplotlib\u001b[0m\u001b[0;34m.\u001b[0m\u001b[0mpyplot\u001b[0m \u001b[0;32mas\u001b[0m \u001b[0mplt\u001b[0m\u001b[0;34m\u001b[0m\u001b[0m\n",
      "\u001b[0;31mImportError\u001b[0m: cannot import name cross_validate"
     ]
    }
   ],
   "source": [
    "import numpy as np\n",
    "import os\n",
    "import graphviz\n",
    "from sklearn import tree\n",
    "from sklearn.model_selection import train_test_split\n",
    "from sklearn.tree import DecisionTreeClassifier\n",
    "from sklearn.model_selection import cross_val_score\n",
    "from sklearn.model_selection import cross_val_predict\n",
    "import matplotlib.pyplot as plt"
   ]
  },
  {
   "cell_type": "code",
   "execution_count": 116,
   "metadata": {},
   "outputs": [
    {
     "data": {
      "text/plain": [
       "DecisionTreeClassifier(class_weight=None, criterion='gini', max_depth=None,\n",
       "            max_features=None, max_leaf_nodes=None, min_impurity_split=0.0,\n",
       "            min_samples_leaf=1, min_samples_split=2,\n",
       "            min_weight_fraction_leaf=0.0, presort=False, random_state=None,\n",
       "            splitter='best')"
      ]
     },
     "execution_count": 116,
     "metadata": {},
     "output_type": "execute_result"
    }
   ],
   "source": [
    "spam = np.genfromtxt('practice/spam.data', delimiter=' ')\n",
    "x, testx, y, testy = train_test_split(spam[:,:-1], spam[:,-1], test_size=227, random_state=123)\n",
    "estimator = DecisionTreeClassifier(min_impurity_split=0.)\n",
    "estimator.fit(x, y)"
   ]
  },
  {
   "cell_type": "code",
   "execution_count": 45,
   "metadata": {},
   "outputs": [
    {
     "name": "stdout",
     "output_type": "stream",
     "text": [
      "28\n"
     ]
    }
   ],
   "source": [
    "print(max(getdepth(estimator)))"
   ]
  },
  {
   "cell_type": "code",
   "execution_count": 106,
   "metadata": {},
   "outputs": [
    {
     "data": {
      "text/plain": [
       "array([  0.   ,   0.   ,   0.   , ...,   9.575,  19.131,  32.478])"
      ]
     },
     "execution_count": 106,
     "metadata": {},
     "output_type": "execute_result"
    }
   ],
   "source": [
    "#yhat=estimator.predict(x)\n",
    "sum(y==1)/float(len(y))\n",
    "x[:,51].sort()\n",
    "x[:, 51]"
   ]
  },
  {
   "cell_type": "code",
   "execution_count": 137,
   "metadata": {},
   "outputs": [],
   "source": [
    "# Best cut according to sklearn implementation\n",
    "best_cut_51 = estimator.tree_.threshold[0]\n",
    "left_idx = np.where(x[:, 51]<=best_cut_51)[0]\n",
    "right_idx = np.where(x[:, 51]>best_cut_51)[0]"
   ]
  },
  {
   "cell_type": "code",
   "execution_count": 152,
   "metadata": {},
   "outputs": [
    {
     "name": "stdout",
     "output_type": "stream",
     "text": [
      "0.487986436876\n",
      "0.477396361967\n"
     ]
    }
   ],
   "source": [
    "#print(left_idx.shape)\n",
    "#print(y[left_idx].sum())\n",
    "#print(y[right_idx].sum())\n",
    "sum(y==1)\n",
    "def mygini(lidx, ridx):\n",
    "    gini = 1. - (float(lidx.shape[0])/(lidx.shape[0]+ridx.shape[0]))**2 - (float(ridx.shape[0])/(ridx.shape[0]+lidx.shape[0]))**2\n",
    "    return gini\n",
    "\n",
    "print(mygini(left_idx, right_idx))\n",
    "#print(np.where(y==0)[0].shape)\n",
    "print(mygini(np.where(y==0)[0], np.where(y==1)[0]))\n",
    "#print(float(1. - (2652./4374.)**2 - (1722./4374)**2))"
   ]
  },
  {
   "cell_type": "code",
   "execution_count": 119,
   "metadata": {},
   "outputs": [
    {
     "name": "stdout",
     "output_type": "stream",
     "text": [
      "[  7.95000046e-02   4.50000018e-02   1.64000005e-01   1.14999995e-01\n",
      "   9.99999978e-03   1.55000001e-01   7.10500002e+00   1.19999997e-01\n",
      "   1.25000000e+01   2.78000021e+00   8.49499989e+00   1.04400005e+01\n",
      "   9.20000017e-01   7.25000024e-01   7.41499996e+00   1.82999992e+00\n",
      "   1.26900005e+00   1.26250005e+00   3.60000000e+01   6.50000000e+00\n",
      "  -2.00000000e+00   7.50000000e+00   1.72000003e+00   1.50000000e+00\n",
      "   1.55999994e+00   2.63000011e+00   1.08500004e+00   3.12500000e+00\n",
      "  -2.00000000e+00  -2.00000000e+00  -2.00000000e+00  -2.00000000e+00\n",
      "  -2.00000000e+00  -2.00000000e+00  -2.00000000e+00  -2.00000000e+00\n",
      "   1.05850005e+00  -2.00000000e+00  -2.00000000e+00  -2.00000000e+00\n",
      "  -2.00000000e+00   2.02750015e+00  -2.00000000e+00  -2.00000000e+00\n",
      "   4.00000000e+00  -2.00000000e+00  -2.00000000e+00   8.09999943e-01\n",
      "   3.48749995e+00   7.35000014e-01   7.35000014e-01  -2.00000000e+00\n",
      "  -2.00000000e+00   1.89999998e+00   5.99999987e-02   2.34999992e-02\n",
      "   1.05000000e+01   1.98000002e+00   1.88499999e+00   1.31999993e+00\n",
      "   1.11000001e+00  -2.00000000e+00   6.05000019e-01  -2.00000000e+00\n",
      "  -2.00000000e+00  -2.00000000e+00   1.89999998e-01  -2.00000000e+00\n",
      "  -2.00000000e+00   4.68500042e+00  -2.00000000e+00   4.78000021e+00\n",
      "   2.00000000e+00  -2.00000000e+00  -2.00000000e+00   1.61500001e+00\n",
      "  -2.00000000e+00   1.02349997e+00  -2.00000000e+00   1.41649997e+00\n",
      "  -2.00000000e+00   7.00000000e+00  -2.00000000e+00  -2.00000000e+00\n",
      "   3.15000010e+00  -2.00000000e+00   2.70000011e-01  -2.00000000e+00\n",
      "  -2.00000000e+00   4.25000012e-01  -2.00000000e+00   6.34999990e-01\n",
      "  -2.00000000e+00  -2.00000000e+00  -2.00000000e+00   2.50799990e+00\n",
      "   1.05349998e+01   3.95000000e+01  -2.00000000e+00   1.29449999e+00\n",
      "  -2.00000000e+00  -2.00000000e+00  -2.00000000e+00  -2.00000000e+00\n",
      "  -2.00000000e+00   1.85000002e-01  -2.00000000e+00  -2.00000000e+00\n",
      "   4.14999992e-01  -2.00000000e+00  -2.00000000e+00  -2.00000000e+00\n",
      "  -2.00000000e+00  -2.00000000e+00   7.30000019e-01   7.59999990e-01\n",
      "   2.50000000e-01   5.24999976e-01   6.58500004e+00   4.70000029e-01\n",
      "   1.05000004e-01   1.64999998e+00   2.21500015e+00   1.78500009e+00\n",
      "   1.95000000e+01   1.92299998e+00  -2.00000000e+00  -2.00000000e+00\n",
      "   3.63999987e+00   2.34500003e+00   3.20000000e+01   3.40000000e+01\n",
      "   3.25000000e+01  -2.00000000e+00  -2.00000000e+00  -2.00000000e+00\n",
      "   7.95000017e-01   2.85499990e-01   3.90000000e+01   1.32000000e+02\n",
      "   6.99999988e-01  -2.00000000e+00  -2.00000000e+00  -2.00000000e+00\n",
      "  -2.00000000e+00  -2.00000000e+00  -2.00000000e+00   1.50999999e+00\n",
      "  -2.00000000e+00   2.70000011e-01   3.30999994e+00  -2.00000000e+00\n",
      "   4.00000000e+00  -2.00000000e+00  -2.00000000e+00  -2.00000000e+00\n",
      "   1.43500000e-01  -2.00000000e+00  -2.00000000e+00  -2.00000000e+00\n",
      "  -2.00000000e+00  -2.00000000e+00  -2.00000000e+00  -2.00000000e+00\n",
      "   6.89999998e-01  -2.00000000e+00  -2.00000000e+00   5.99999987e-02\n",
      "  -2.00000000e+00  -2.00000000e+00   1.95000000e+01  -2.00000000e+00\n",
      "   1.86000001e+00  -2.00000000e+00  -2.00000000e+00   5.45000017e-01\n",
      "  -2.00000000e+00  -2.00000000e+00   1.94999993e-01   1.55000001e-01\n",
      "   1.65000007e-01  -2.00000000e+00  -2.00000000e+00  -2.00000000e+00\n",
      "  -2.00000000e+00   9.85000014e-01   2.29400000e+03   7.40000010e-01\n",
      "   9.90000010e-01   3.75000000e-01  -2.00000000e+00   3.94999981e-01\n",
      "  -2.00000000e+00  -2.00000000e+00   1.03999996e+00  -2.00000000e+00\n",
      "  -2.00000000e+00   7.54999995e-01  -2.00000000e+00  -2.00000000e+00\n",
      "   9.99999978e-03  -2.00000000e+00  -2.00000000e+00  -2.00000000e+00\n",
      "  -2.00000000e+00   4.10000011e-02   1.35000005e-01  -2.00000000e+00\n",
      "  -2.00000000e+00  -2.00000000e+00   6.89999983e-02   1.09999999e-01\n",
      "   7.40000000e+01   1.11250000e+01  -2.00000000e+00  -2.00000000e+00\n",
      "  -2.00000000e+00  -2.00000000e+00   6.12800000e+03  -2.00000000e+00\n",
      "  -2.00000000e+00   1.08500004e+00   6.49999976e-02   1.29999995e-01\n",
      "   1.59000000e+02   2.50000000e-01   1.15499997e+00   1.33649993e+00\n",
      "  -2.00000000e+00   3.19999993e-01  -2.00000000e+00   4.05000000e+01\n",
      "  -2.00000000e+00  -2.00000000e+00   4.73999977e+00  -2.00000000e+00\n",
      "  -2.00000000e+00   3.46500015e+00   7.50000000e+00  -2.00000000e+00\n",
      "  -2.00000000e+00  -2.00000000e+00   4.30000007e-01   7.97049999e+00\n",
      "   4.60000008e-01  -2.00000000e+00  -2.00000000e+00  -2.00000000e+00\n",
      "   2.25000009e-01  -2.00000000e+00  -2.00000000e+00   1.89999998e-01\n",
      "   9.89999995e-02   8.50000009e-02  -2.00000000e+00   2.54999995e-01\n",
      "  -2.00000000e+00  -2.00000000e+00  -2.00000000e+00  -2.00000000e+00\n",
      "  -2.00000000e+00   3.10000002e-01   1.21650004e+00  -2.00000000e+00\n",
      "  -2.00000000e+00   4.74999994e-01  -2.00000000e+00  -2.00000000e+00\n",
      "   2.39999995e-01   1.62899995e+00  -2.00000000e+00   4.60000008e-01\n",
      "   4.07000005e-01   8.82499993e-01  -2.00000000e+00   2.34800005e+00\n",
      "  -2.00000000e+00  -2.00000000e+00   4.99999989e-03  -2.00000000e+00\n",
      "  -2.00000000e+00  -2.00000000e+00  -2.00000000e+00   7.99999982e-02\n",
      "   1.50000006e-01   1.44999996e-01   5.65500021e-01   1.57999992e+00\n",
      "   1.75000000e+00   7.09999949e-02   1.37000000e+00   1.25000000e-01\n",
      "  -2.00000000e+00  -2.00000000e+00  -2.00000000e+00   1.15000002e-01\n",
      "  -2.00000000e+00  -2.00000000e+00   3.65000000e+01  -2.00000000e+00\n",
      "  -2.00000000e+00  -2.00000000e+00  -2.00000000e+00  -2.00000000e+00\n",
      "   4.30000007e-01   4.85000014e-01  -2.00000000e+00   6.80000007e-01\n",
      "  -2.00000000e+00  -2.00000000e+00  -2.00000000e+00  -2.00000000e+00\n",
      "   1.85000000e+01   6.49999976e-02   8.05000067e-02   9.00000036e-02\n",
      "   7.79000044e-01   8.79999995e-01   3.16249990e+00   5.99999987e-02\n",
      "   2.11500001e+00   5.15999985e+00   1.48000002e+00   1.19500005e+00\n",
      "   4.19999987e-01   1.04499996e+00   2.51499987e+00  -2.00000000e+00\n",
      "   2.54500008e+00   1.80000007e-01  -2.00000000e+00  -2.00000000e+00\n",
      "   2.29250002e+00  -2.00000000e+00   2.33750010e+00  -2.00000000e+00\n",
      "  -2.00000000e+00   7.00000003e-02   4.25000012e-01   1.76999998e+00\n",
      "  -2.00000000e+00   1.90499997e+00  -2.00000000e+00   2.51999998e+00\n",
      "   2.42000008e+00  -2.00000000e+00  -2.00000000e+00  -2.00000000e+00\n",
      "   3.59999985e-02  -2.00000000e+00  -2.00000000e+00  -2.00000000e+00\n",
      "   2.24999994e-01  -2.00000000e+00  -2.00000000e+00  -2.00000000e+00\n",
      "  -2.00000000e+00  -2.00000000e+00   9.80000019e-01  -2.00000000e+00\n",
      "  -2.00000000e+00   9.25000012e-01  -2.00000000e+00  -2.00000000e+00\n",
      "   8.60000014e-01   1.15999997e+00   1.27999997e+00  -2.00000000e+00\n",
      "  -2.00000000e+00  -2.00000000e+00  -2.00000000e+00   3.50000024e-01\n",
      "   2.56750011e+00  -2.00000000e+00  -2.00000000e+00  -2.00000000e+00\n",
      "   1.45000000e+01   2.50000000e+00  -2.00000000e+00   8.47499967e-01\n",
      "   1.00000000e+01  -2.00000000e+00  -2.00000000e+00   1.74650002e+00\n",
      "  -2.00000000e+00   1.81999993e+00  -2.00000000e+00  -2.00000000e+00\n",
      "   1.66999996e+00   6.00000024e-01   2.17000008e+00   5.79999983e-01\n",
      "   6.39999986e-01   8.70899963e+00   1.70000000e+01   1.77049994e+00\n",
      "  -2.00000000e+00  -2.00000000e+00   5.55999994e+00  -2.00000000e+00\n",
      "  -2.00000000e+00  -2.00000000e+00  -2.00000000e+00  -2.00000000e+00\n",
      "  -2.00000000e+00  -2.00000000e+00   4.41499996e+00  -2.00000000e+00\n",
      "  -2.00000000e+00   1.15000002e-01   1.25000000e+00   2.90000010e+00\n",
      "  -2.00000000e+00   2.82900000e+00  -2.00000000e+00  -2.00000000e+00\n",
      "  -2.00000000e+00  -2.00000000e+00   1.94999993e-01   1.44999996e-01\n",
      "   4.79999989e-01   2.30000004e-01  -2.00000000e+00   8.84999990e-01\n",
      "  -2.00000000e+00  -2.00000000e+00  -2.00000000e+00   1.02499998e+00\n",
      "  -2.00000000e+00  -2.00000000e+00  -2.00000000e+00   1.89999998e-01\n",
      "   1.15000002e-01   8.45000029e-01   6.50000000e+00   1.02500010e+00\n",
      "   4.49999988e-01   2.39999995e-01   2.54999995e-01   9.75000024e-01\n",
      "  -2.00000000e+00   1.14499998e+00  -2.00000000e+00  -2.00000000e+00\n",
      "  -2.00000000e+00  -2.00000000e+00  -2.00000000e+00   1.44499993e+00\n",
      "  -2.00000000e+00  -2.00000000e+00   1.72000003e+00   2.89999992e-01\n",
      "   9.49999988e-02   2.64499998e+00   7.84999967e-01   3.95000000e+01\n",
      "   6.00000024e-01  -2.00000000e+00  -2.00000000e+00  -2.00000000e+00\n",
      "   6.54999971e-01  -2.00000000e+00  -2.00000000e+00   2.90000010e+00\n",
      "  -2.00000000e+00  -2.00000000e+00   2.19999999e-01  -2.00000000e+00\n",
      "  -2.00000000e+00  -2.00000000e+00   2.29500008e+00  -2.00000000e+00\n",
      "  -2.00000000e+00  -2.00000000e+00   6.15000010e-01  -2.00000000e+00\n",
      "  -2.00000000e+00  -2.00000000e+00   3.89999986e-01   1.40000001e-01\n",
      "   2.10000008e-01   6.69999957e-01   4.35000002e-01   1.13400006e+00\n",
      "   5.89999974e-01   3.17999983e+00   6.50000013e-03   1.43500000e-01\n",
      "   4.25000000e+01  -2.00000000e+00   1.15190001e+01   1.68000007e+00\n",
      "   8.74999985e-02   8.44999999e-02  -2.00000000e+00  -2.00000000e+00\n",
      "   5.29999971e-01   2.36999989e+00  -2.00000000e+00   1.36500001e+00\n",
      "  -2.00000000e+00  -2.00000000e+00   3.79999995e-01  -2.00000000e+00\n",
      "  -2.00000000e+00   7.81000018e-01  -2.00000000e+00  -2.00000000e+00\n",
      "  -2.00000000e+00   1.98500007e-01   3.19999993e-01  -2.00000000e+00\n",
      "  -2.00000000e+00   2.19050002e+00   5.41499972e-01  -2.00000000e+00\n",
      "  -2.00000000e+00   5.69999993e-01  -2.00000000e+00   1.56500006e+00\n",
      "  -2.00000000e+00   6.44999981e-01  -2.00000000e+00  -2.00000000e+00\n",
      "   1.89999998e-01   2.84999996e-01   2.28200006e+00   7.00000022e-03\n",
      "  -2.00000000e+00  -2.00000000e+00   4.09999996e-01   4.64999974e-01\n",
      "   6.10000014e-01  -2.00000000e+00   8.24999958e-02  -2.00000000e+00\n",
      "   2.28500009e+00  -2.00000000e+00   3.85499984e-01  -2.00000000e+00\n",
      "  -2.00000000e+00   4.10499990e-01  -2.00000000e+00  -2.00000000e+00\n",
      "   9.80000019e-01  -2.00000000e+00  -2.00000000e+00   1.63999999e+00\n",
      "  -2.00000000e+00   1.67499995e+00  -2.00000000e+00  -2.00000000e+00\n",
      "   2.04999998e-01  -2.00000000e+00  -2.00000000e+00   6.80000007e-01\n",
      "  -2.00000000e+00  -2.00000000e+00   1.30499995e+00  -2.00000000e+00\n",
      "  -2.00000000e+00  -2.00000000e+00  -2.00000000e+00  -2.00000000e+00\n",
      "   2.80499995e-01  -2.00000000e+00  -2.00000000e+00   1.99999996e-02\n",
      "  -2.00000000e+00   1.19999997e-01  -2.00000000e+00   6.30000010e-02\n",
      "  -2.00000000e+00  -2.00000000e+00   8.05000007e-01   4.14999992e-01\n",
      "  -2.00000000e+00  -2.00000000e+00   1.09999999e-01  -2.00000000e+00\n",
      "  -2.00000000e+00]\n"
     ]
    }
   ],
   "source": [
    "print(estimator.tree_.threshold)                     "
   ]
  },
  {
   "cell_type": "code",
   "execution_count": 35,
   "metadata": {
    "collapsed": true
   },
   "outputs": [],
   "source": [
    "def getdepth(estimator):\n",
    "    n_nodes = estimator.tree_.node_count\n",
    "    children_left = estimator.tree_.children_left\n",
    "    children_right = estimator.tree_.children_right\n",
    "    feature = estimator.tree_.feature\n",
    "    threshold = estimator.tree_.threshold\n",
    "    # The tree structure can be traversed to compute various properties such\n",
    "    # as the depth of each node and whether or not it is a leaf.\n",
    "    node_depth = np.zeros(shape=n_nodes, dtype=np.int64)\n",
    "    is_leaves = np.zeros(shape=n_nodes, dtype=bool)\n",
    "    stack = [(0, -1)]  # seed is the root node id and its parent depth\n",
    "    while len(stack) > 0:\n",
    "        node_id, parent_depth = stack.pop()\n",
    "        node_depth[node_id] = parent_depth + 1\n",
    "        # If we have a test node\n",
    "        if (children_left[node_id] != children_right[node_id]):\n",
    "            stack.append((children_left[node_id], parent_depth + 1))\n",
    "            stack.append((children_right[node_id], parent_depth + 1))\n",
    "        else:\n",
    "            is_leaves[node_id] = True\n",
    "    return node_depth\n"
   ]
  },
  {
   "cell_type": "code",
   "execution_count": 98,
   "metadata": {},
   "outputs": [
    {
     "data": {
      "text/plain": [
       "array([ 0.47739636,  0.26056581,  0.18474821,  0.14903384,  0.11032767,\n",
       "        0.0952211 ,  0.08821398,  0.08648885,  0.12694028,  0.06365144,\n",
       "        0.06172916,  0.05979855,  0.05785957,  0.05597009,  0.02119898,\n",
       "        0.01779216,  0.01438773,  0.03291259,  0.01673521,  0.00877176,\n",
       "        0.        ,  0.02940521,  0.09070295,  0.15277778,  0.27777778,\n",
       "        0.375     ,  0.44444444,  0.5       ,  0.        ,  0.        ,\n",
       "        0.        ,  0.        ,  0.        ,  0.        ,  0.        ,\n",
       "        0.        ,  0.18      ,  0.        ,  0.        ,  0.        ,\n",
       "        0.        ,  0.32      ,  0.        ,  0.        ,  0.44444444,\n",
       "        0.        ,  0.        ,  0.10520021,  0.09644256,  0.0918572 ,\n",
       "        0.5       ,  0.        ,  0.        ,  0.08744487,  0.07232116,\n",
       "        0.11361817,  0.1723356 ,  0.14090779,  0.29336735,  0.2112    ,\n",
       "        0.35502959,  0.        ,  0.375     ,  0.        ,  0.        ,\n",
       "        0.        ,  0.44444444,  0.        ,  0.        ,  0.08493827,\n",
       "        0.        ,  0.18      ,  0.44444444,  0.        ,  0.        ,\n",
       "        0.10226443,  0.        ,  0.40816327,  0.        ,  0.27777778,\n",
       "        0.        ,  0.5       ,  0.        ,  0.        ,  0.46875   ,\n",
       "        0.        ,  0.375     ,  0.        ,  0.        ,  0.02221942,\n",
       "        0.21875   ,  0.        ,  0.        ,  0.        ,  0.        ,\n",
       "        0.2688    ,  0.21875   ,  0.15879017,  0.        ,  0.44444444,\n",
       "        0.        ,  0.        ,  0.        ,  0.        ,  0.        ,\n",
       "        0.44444444,  0.        ,  0.        ,  0.5       ,  0.        ,\n",
       "        0.        ,  0.        ,  0.        ,  0.        ,  0.29065744,\n",
       "        0.25258026,  0.22272522,  0.1757915 ,  0.15960907,  0.13742065,\n",
       "        0.12489925,  0.11848334,  0.11196145,  0.10533166,  0.098592  ,\n",
       "        0.5       ,  0.        ,  0.        ,  0.09209157,  0.08543195,\n",
       "        0.06271433,  0.01418367,  0.32      ,  0.        ,  0.        ,\n",
       "        0.        ,  0.14542936,  0.12444444,  0.10226443,  0.39111111,\n",
       "        0.32      ,  0.        ,  0.        ,  0.        ,  0.        ,\n",
       "        0.        ,  0.        ,  0.23111111,  0.        ,  0.49382716,\n",
       "        0.44444444,  0.        ,  0.44444444,  0.        ,  0.        ,\n",
       "        0.        ,  0.5       ,  0.        ,  0.        ,  0.        ,\n",
       "        0.        ,  0.        ,  0.        ,  0.        ,  0.48979592,\n",
       "        0.        ,  0.        ,  0.375     ,  0.        ,  0.        ,\n",
       "        0.44444444,  0.        ,  0.16528926,  0.        ,  0.        ,\n",
       "        0.21875   ,  0.        ,  0.        ,  0.4296875 ,  0.26035503,\n",
       "        0.        ,  0.        ,  0.        ,  0.0156444 ,  0.01048464,\n",
       "        0.00791544,  0.00545699,  0.00285714,  0.        ,  0.04253308,\n",
       "        0.        ,  0.        ,  0.06054688,  0.        ,  0.        ,\n",
       "        0.07986111,  0.        ,  0.5       ,  0.375     ,  0.        ,\n",
       "        0.        ,  0.        ,  0.        ,  0.46875   ,  0.29752066,\n",
       "        0.        ,  0.        ,  0.        ,  0.48890901,  0.4032    ,\n",
       "        0.24489796,  0.375     ,  0.        ,  0.        ,  0.        ,\n",
       "        0.        ,  0.16528926,  0.        ,  0.        ,  0.44324974,\n",
       "        0.34729917,  0.442266  ,  0.49893491,  0.38781163,  0.3046875 ,\n",
       "        0.47337278,  0.        ,  0.49382716,  0.        ,  0.32      ,\n",
       "        0.        ,  0.        ,  0.09972299,  0.        ,  0.        ,\n",
       "        0.44444444,  0.        ,  0.44444444,  0.        ,  0.        ,\n",
       "        0.34567901,  0.16528926,  0.09070295,  0.        ,  0.        ,\n",
       "        0.        ,  0.32      ,  0.        ,  0.        ,  0.14542936,\n",
       "        0.10226443,  0.05401235,  0.        ,  0.44444444,  0.        ,\n",
       "        0.        ,  0.        ,  0.        ,  0.        ,  0.32      ,\n",
       "        0.27777778,  0.        ,  0.        ,  0.12841855,  0.        ,\n",
       "        0.        ,  0.40664533,  0.32651529,  0.        ,  0.19218935,\n",
       "        0.09352325,  0.03388823,  0.        ,  0.27777778,  0.        ,\n",
       "        0.        ,  0.44444444,  0.        ,  0.        ,  0.        ,\n",
       "        0.        ,  0.27524535,  0.16803841,  0.1128    ,  0.09012053,\n",
       "        0.06614749,  0.05365042,  0.02856543,  0.01481399,  0.27777778,\n",
       "        0.        ,  0.        ,  0.        ,  0.375     ,  0.        ,\n",
       "        0.        ,  0.40816327,  0.        ,  0.        ,  0.        ,\n",
       "        0.        ,  0.        ,  0.5       ,  0.375     ,  0.        ,\n",
       "        0.44444444,  0.5       ,  0.        ,  0.        ,  0.        ,\n",
       "        0.40203461,  0.4919708 ,  0.41604246,  0.34026465,  0.27463687,\n",
       "        0.18860237,  0.14820227,  0.11040619,  0.08442715,  0.06802679,\n",
       "        0.06224088,  0.05637877,  0.05043935,  0.04456281,  0.015872  ,\n",
       "        0.        ,  0.0555102 ,  0.5       ,  0.        ,  0.        ,\n",
       "        0.02897924,  0.        ,  0.15277778,  0.        ,  0.        ,\n",
       "        0.16004925,  0.1031405 ,  0.07262371,  0.        ,  0.16528926,\n",
       "        0.        ,  0.09070295,  0.24489796,  0.        ,  0.        ,\n",
       "        0.        ,  0.5       ,  0.        ,  0.        ,  0.        ,\n",
       "        0.5       ,  0.        ,  0.        ,  0.        ,  0.        ,\n",
       "        0.        ,  0.48      ,  0.        ,  0.        ,  0.40816327,\n",
       "        0.        ,  0.        ,  0.39669421,  0.32      ,  0.19753086,\n",
       "        0.        ,  0.        ,  0.        ,  0.        ,  0.46875   ,\n",
       "        0.375     ,  0.        ,  0.        ,  0.        ,  0.4928    ,\n",
       "        0.24489796,  0.        ,  0.14201183,  0.5       ,  0.        ,\n",
       "        0.        ,  0.07986111,  0.        ,  0.24489796,  0.        ,\n",
       "        0.        ,  0.47261204,  0.42      ,  0.36815194,  0.32      ,\n",
       "        0.25711662,  0.13265306,  0.5       ,  0.        ,  0.        ,\n",
       "        0.        ,  0.48      ,  0.        ,  0.        ,  0.        ,\n",
       "        0.        ,  0.        ,  0.24489796,  0.        ,  0.        ,\n",
       "        0.20761246,  0.1171875 ,  0.06243496,  0.        ,  0.44444444,\n",
       "        0.        ,  0.        ,  0.        ,  0.        ,  0.32986111,\n",
       "        0.25395411,  0.15049718,  0.09652399,  0.48979592,  0.        ,\n",
       "        0.        ,  0.        ,  0.        ,  0.27777778,  0.        ,\n",
       "        0.        ,  0.        ,  0.28908492,  0.24707598,  0.19946976,\n",
       "        0.18362603,  0.38927336,  0.48753463,  0.39111111,  0.26035503,\n",
       "        0.        ,  0.15277778,  0.        ,  0.375     ,  0.        ,\n",
       "        0.        ,  0.        ,  0.        ,  0.12444444,  0.        ,\n",
       "        0.        ,  0.11872644,  0.09564722,  0.0831758 ,  0.07082612,\n",
       "        0.03277778,  0.01709275,  0.16528926,  0.        ,  0.        ,\n",
       "        0.        ,  0.375     ,  0.        ,  0.        ,  0.3046875 ,\n",
       "        0.        ,  0.        ,  0.5       ,  0.        ,  0.        ,\n",
       "        0.        ,  0.44444444,  0.        ,  0.        ,  0.        ,\n",
       "        0.34567901,  0.        ,  0.        ,  0.        ,  0.17109758,\n",
       "        0.11971748,  0.10016755,  0.08732816,  0.08234045,  0.07729382,\n",
       "        0.0721875 ,  0.06708308,  0.06190846,  0.14455978,  0.06134191,\n",
       "        0.        ,  0.05305785,  0.04461959,  0.02764434,  0.5       ,\n",
       "        0.        ,  0.        ,  0.01868993,  0.00970851,  0.        ,\n",
       "        0.32      ,  0.        ,  0.        ,  0.24489796,  0.        ,\n",
       "        0.        ,  0.48      ,  0.        ,  0.        ,  0.        ,\n",
       "        0.32      ,  0.46875   ,  0.        ,  0.        ,  0.18231464,\n",
       "        0.48      ,  0.        ,  0.        ,  0.1171875 ,  0.        ,\n",
       "        0.4260355 ,  0.        ,  0.18      ,  0.        ,  0.        ,\n",
       "        0.02448603,  0.02185525,  0.07638171,  0.48      ,  0.        ,\n",
       "        0.        ,  0.0567696 ,  0.03679687,  0.02531229,  0.        ,\n",
       "        0.19753086,  0.        ,  0.11072664,  0.        ,  0.5       ,\n",
       "        0.        ,  0.        ,  0.375     ,  0.        ,  0.        ,\n",
       "        0.29752066,  0.        ,  0.        ,  0.00364298,  0.        ,\n",
       "        0.095     ,  0.        ,  0.        ,  0.5       ,  0.        ,\n",
       "        0.        ,  0.375     ,  0.        ,  0.        ,  0.375     ,\n",
       "        0.        ,  0.        ,  0.        ,  0.        ,  0.        ,\n",
       "        0.32      ,  0.        ,  0.        ,  0.455     ,  0.        ,\n",
       "        0.34567901,  0.        ,  0.44444444,  0.        ,  0.        ,\n",
       "        0.2401298 ,  0.05259313,  0.        ,  0.        ,  0.27777778,\n",
       "        0.        ,  0.        ])"
      ]
     },
     "execution_count": 98,
     "metadata": {},
     "output_type": "execute_result"
    }
   ],
   "source": [
    "estimator.tree_.impurity"
   ]
  },
  {
   "cell_type": "code",
   "execution_count": 92,
   "metadata": {},
   "outputs": [],
   "source": [
    "acc_ = []\n",
    "depth_ = []\n",
    "#for j in reversed([0., 1e-7, 1e-6, 1e-5, 1e-4, 1e-3, 1e-2, 0.1, 0.2, 0.3, 0.4, 0.5, 0.6, 0.8, 1]):\n",
    "for j in np.arange(0.0, 0.6, 0.02):\n",
    "    clf = DecisionTreeClassifier(min_impurity_split=j)\n",
    "    acc = cross_val_score(clf, x, y, cv=10)\n",
    "    clf.fit(x,y)\n",
    "    depth_.append(max(getdepth(clf)))\n",
    "    acc_.append(1-acc.mean())"
   ]
  },
  {
   "cell_type": "code",
   "execution_count": 85,
   "metadata": {},
   "outputs": [
    {
     "data": {
      "text/plain": [
       "<matplotlib.collections.PathCollection at 0x7f9a517cd610>"
      ]
     },
     "execution_count": 85,
     "metadata": {},
     "output_type": "execute_result"
    }
   ],
   "source": [
    "plt.scatter(np.arange(0.05, 1, 0.05), acc_)"
   ]
  },
  {
   "cell_type": "code",
   "execution_count": 93,
   "metadata": {},
   "outputs": [
    {
     "data": {
      "text/plain": [
       "<matplotlib.collections.PathCollection at 0x7f9a515dea10>"
      ]
     },
     "execution_count": 93,
     "metadata": {},
     "output_type": "execute_result"
    }
   ],
   "source": [
    "plt.scatter(depth_, np.arange(0.0, 0.6, 0.02))"
   ]
  },
  {
   "cell_type": "code",
   "execution_count": 94,
   "metadata": {},
   "outputs": [
    {
     "data": {
      "image/png": "[encoded data removed]",
      "text/plain": [
       "<matplotlib.figure.Figure at 0x7f9a516a3890>"
      ]
     },
     "metadata": {},
     "output_type": "display_data"
    }
   ],
   "source": [
    "plt.show()"
   ]
  },
  {
   "cell_type": "code",
   "execution_count": 117,
   "metadata": {},
   "outputs": [],
   "source": [
    "dot_data = tree.export_graphviz(estimator, out_file=None) \n",
    "graph = graphviz.Source(dot_data)"
   ]
  },
  {
   "cell_type": "code",
   "execution_count": 118,
   "metadata": {},
   "outputs": [
    {
     "data": {
      "text/plain": [
       "'spam.pdf'"
      ]
     },
     "execution_count": 118,
     "metadata": {},
     "output_type": "execute_result"
    }
   ],
   "source": [
    "graph.render('spam')"
   ]
  },
  {
   "cell_type": "code",
   "execution_count": 43,
   "metadata": {},
   "outputs": [
    {
     "name": "stdout",
     "output_type": "stream",
     "text": [
      "28\n"
     ]
    }
   ],
   "source": [
    "print(max(getdepth(estimator)))"
   ]
  }
 ],
 "metadata": {
  "kernelspec": {
   "display_name": "Python 2",
   "language": "python",
   "name": "python2"
  },
  "language_info": {
   "codemirror_mode": {
    "name": "ipython",
    "version": 2
   },
   "file_extension": ".py",
   "mimetype": "text/x-python",
   "name": "python",
   "nbconvert_exporter": "python",
   "pygments_lexer": "ipython2",
   "version": "2.7.12"
  }
 },
 "nbformat": 4,
 "nbformat_minor": 2
}
